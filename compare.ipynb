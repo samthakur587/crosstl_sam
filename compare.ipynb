{
 "cells": [
  {
   "cell_type": "markdown",
   "metadata": {},
   "source": [
    "# The Shader Translation Showdown: SPIRV-Cross vs CrossTL\n",
    "\n",
    "In the world of graphics programming, translating shaders between different languages is a common necessity. Today, we're putting two contenders in the ring: the seasoned veteran SPIRV-Cross and the newcomer CrossTL. Let's see how they stack up in a head-to-head comparison!"
   ]
  },
  {
   "cell_type": "markdown",
   "metadata": {},
   "source": [
    "## Round 1: Setup and Installation\n",
    "\n",
    "### SPIRV-Cross: The Heavyweight Setup\n",
    "\n",
    "Setting up SPIRV-Cross is like preparing for a complex culinary dish. You need several ingredients and tools:"
   ]
  },
  {
   "cell_type": "code",
   "execution_count": null,
   "metadata": {},
   "outputs": [],
   "source": [
    "# SPIRV-Cross Setup (conceptual, not actual code)\n",
    "\n",
    "# 1. Install Vulkan SDK\n",
    "!wget https://sdk.lunarg.com/sdk/download/latest/linux/vulkan-sdk.tar.gz\n",
    "!tar -xzf vulkan-sdk.tar.gz\n",
    "!./vulkan-sdk/setup-env.sh\n",
    "\n",
    "# 2. Clone and build SPIRV-Cross\n",
    "!git clone https://github.com/KhronosGroup/SPIRV-Cross.git\n",
    "!cd SPIRV-Cross && mkdir build && cd build && cmake .. && make\n",
    "\n",
    "# 3. Add to PATH\n",
    "import os\n",
    "os.environ['PATH'] += os.pathsep + '/path/to/vulkan-sdk/bin'\n",
    "os.environ['PATH'] += os.pathsep + '/path/to/SPIRV-Cross/build'\n",
    "\n",
    "print(\"SPIRV-Cross setup complete (in theory)!\")"
   ]
  },
  {
   "cell_type": "markdown",
   "metadata": {},
   "source": [
    "### CrossTL: The Lightweight Contender\n",
    "\n",
    "In contrast, setting up CrossTL is like making instant noodles. Quick, easy, and straightforward:"
   ]
  },
  {
   "cell_type": "code",
   "execution_count": 1,
   "metadata": {},
   "outputs": [
    {
     "name": "stdout",
     "output_type": "stream",
     "text": [
      "CrossTL setup complete!\n"
     ]
    }
   ],
   "source": [
    "# CrossTL Setup\n",
    "#!pip install crosstl\n",
    "import crosstl\n",
    "\n",
    "print(\"CrossTL setup complete!\")"
   ]
  },
  {
   "cell_type": "markdown",
   "metadata": {},
   "source": [
    "**Round 1 Verdict**: CrossTL takes this round with its simplicity and ease of setup. SPIRV-Cross, while powerful, requires a more involved setup process."
   ]
  },
  {
   "cell_type": "markdown",
   "metadata": {},
   "source": [
    "## Round 2: Translating GLSL to HLSL\n",
    "\n",
    "Let's see how each contender handles translating a simple GLSL shader to HLSL."
   ]
  },
  {
   "cell_type": "code",
   "execution_count": 5,
   "metadata": {},
   "outputs": [
    {
     "name": "stdout",
     "output_type": "stream",
     "text": [
      "GLSL shader saved to shader.glsl\n"
     ]
    }
   ],
   "source": [
    "glsl_shader = \"\"\"\n",
    "#version 450\n",
    "\n",
    "\n",
    "// Vertex shader\n",
    "\n",
    "float perlinNoise(vec2 p) {\n",
    "    return fract(sin(dot(p, vec2(12.9898, 78.233))) * 43758.5453);\n",
    "}\n",
    "\n",
    "layout(location = 0) in vec3 position;\n",
    "out vec2 vUV;\n",
    "\n",
    "void main() {\n",
    "    vUV = position.xy * 10.0;\n",
    "    gl_Position = vec4(position, 1.0);\n",
    "}\n",
    "\n",
    "// Fragment shader\n",
    "\n",
    "in vec2 vUV;\n",
    "layout(location = 0) out vec4 fragColor;\n",
    "\n",
    "void main() {\n",
    "    float noise = perlinNoise(vUV);\n",
    "    float height = noise * 10.0;\n",
    "    vec3 color = vec3(height / 10.0, 1.0 - height / 10.0, 0.0);\n",
    "    fragColor = vec4(color, 1.0);\n",
    "}\n",
    "\n",
    "\"\"\"\n",
    "\n",
    "with open('shader.glsl', 'w') as f:\n",
    "    f.write(glsl_shader)\n",
    "\n",
    "print(\"GLSL shader saved to shader.glsl\")"
   ]
  },
  {
   "cell_type": "markdown",
   "metadata": {},
   "source": [
    "### SPIRV-Cross: The Multi-Step Approach"
   ]
  },
  {
   "cell_type": "code",
   "execution_count": null,
   "metadata": {},
   "outputs": [],
   "source": [
    "# SPIRV-Cross translation (conceptual, not actual code)\n",
    "!glslangValidator -V shader.glsl -o shader.spv\n",
    "!spirv-cross shader.spv --hlsl --output shader.hlsl\n",
    "\n",
    "print(\"SPIRV-Cross translation complete (in theory)!\")\n",
    "print(\"Check shader.hlsl for the result.\")"
   ]
  },
  {
   "cell_type": "markdown",
   "metadata": {},
   "source": [
    "### CrossTL: The One-Liner Wonder"
   ]
  },
  {
   "cell_type": "markdown",
   "metadata": {},
   "source": [
    "## From GLSL -> Crossgl(universal shader) -> HLSL"
   ]
  },
  {
   "cell_type": "code",
   "execution_count": 7,
   "metadata": {},
   "outputs": [
    {
     "name": "stdout",
     "output_type": "stream",
     "text": [
      "CrossTL translation result:\n",
      "shader main {\n",
      "    vertex {\n",
      "        input vec3 position;\n",
      "        output vec2 vUV;\n",
      "\n",
      "\n",
      "\n",
      "        float perlinNoise(vec2 p) {\n",
      "        return fract((sin(dot(p, vec2(12.9898, 78.233))) * 43758.5453));\n",
      "        }\n",
      "        void main() {\n",
      "        vUV = (position.xy * 10.0);\n",
      "        gl_Position = vec4(position, 1.0);\n",
      "        }\n",
      "    }\n",
      "    fragment {\n",
      "        input vec4 fragColor;\n",
      "        input vec2 vUV;\n",
      "\n",
      "\n",
      "        void main() {\n",
      "        noise = perlinNoise(vUV);\n",
      "        height = (noise * 10.0);\n",
      "        color = vec3((height / 10.0), (1.0 - (height / 10.0)), 0.0);\n",
      "        fragColor = vec4(color, 1.0);\n",
      "        }\n",
      "    }\n",
      "}\n",
      "\n"
     ]
    }
   ],
   "source": [
    "# CrossTL translation\n",
    "crossgl_shader = crosstl.translate('shader.glsl', 'cgl')\n",
    "print(\"CrossTL translation result:\")\n",
    "print(crossgl_shader)"
   ]
  },
  {
   "cell_type": "code",
   "execution_count": 8,
   "metadata": {},
   "outputs": [],
   "source": [
    "with open('shader.cgl', 'w') as f:\n",
    "    f.write(crossgl_shader)"
   ]
  },
  {
   "cell_type": "code",
   "execution_count": 9,
   "metadata": {},
   "outputs": [
    {
     "name": "stdout",
     "output_type": "stream",
     "text": [
      "HLSL translation result:\n",
      "\n",
      "struct VSInput {\n",
      "    float3 position : POSITION;\n",
      "};\n",
      "\n",
      "struct VSOutput {\n",
      "   float4 position : SV_POSITION;\n",
      "    float2 vUV : TEXCOORD0;\n",
      "};\n",
      "\n",
      "float perlinNoise(float2 p) {\n",
      "    return fract(sin(dot(p, float2(12.9898, 78.233))) * 43758.5453);\n",
      "}\n",
      "VSOutput VSMain(VSInput input) {\n",
      "    VSOutput output;\n",
      "    output.vUV = input.position.xy * 10.0;\n",
      "    output.position = float4(input.position, 1.0);\n",
      "    return output;\n",
      "}\n",
      "\n",
      "struct PSInput {\n",
      "    float4 fragColor : TEXCOORD0;\n",
      "    float2 vUV : TEXCOORD1;\n",
      "};\n",
      "\n",
      "PSOutput PSMain(PSInput input) {\n",
      "    PSOutput output;\n",
      "    noise = perlinNoise(input.vUV);\n",
      "    height = noise * 10.0;\n",
      "    color = float3(height / 10.0, 1.0 - height / 10.0, 0.0);\n",
      "    input.fragColor = float4(color, 1.0);\n",
      "    return output;\n",
      "}\n",
      "\n",
      "\n"
     ]
    }
   ],
   "source": [
    "# CrossTL translation\n",
    "hlsl_shader = crosstl.translate('shader.cgl', 'directx')\n",
    "print(\"HLSL translation result:\")\n",
    "print(hlsl_shader)"
   ]
  },
  {
   "cell_type": "markdown",
   "metadata": {},
   "source": [
    "**Round 2 Verdict**: CrossTL scores another point with its straightforward, one-line translation. SPIRV-Cross, while more verbose, offers a standardized intermediate representation (SPIR-V) which can be valuable in certain workflows."
   ]
  },
  {
   "cell_type": "markdown",
   "metadata": {},
   "source": [
    "## Round 3: Flexibility and Features\n",
    "\n",
    "Let's explore some unique features of each contender."
   ]
  },
  {
   "cell_type": "markdown",
   "metadata": {},
   "source": [
    "### SPIRV-Cross: The Swiss Army Knife\n",
    "\n",
    "SPIRV-Cross offers:\n",
    "1. SPIR-V optimization\n",
    "2. Reflection capabilities\n",
    "3. Support for exotic shader types (compute, geometry, etc.)\n",
    "\n",
    "```python\n",
    "# Conceptual example of SPIRV-Cross reflection\n",
    "!spirv-cross shader.spv --reflect\n",
    "```"
   ]
  },
  {
   "cell_type": "markdown",
   "metadata": {},
   "source": [
    "### CrossTL: The Universal Translator\n",
    "\n",
    "CrossTL shines with:\n",
    "1. Direct translation between high-level languages\n",
    "2. A universal intermediate language (CrossGL)\n",
    "3. Bidirectional translation capabilities"
   ]
  },
  {
   "cell_type": "code",
   "execution_count": 13,
   "metadata": {},
   "outputs": [
    {
     "name": "stdout",
     "output_type": "stream",
     "text": [
      "GLSL to CrossGL:\n",
      "shader main {\n",
      "    vertex {\n",
      "        input vec3 position;\n",
      "        output vec2 vUV;\n",
      "\n",
      "\n",
      "\n",
      "        float perlinNoise(vec2 p) {\n",
      "        return fract((sin(dot(p, vec2(12.9898, 78.233))) * 43758.5453));\n",
      "        }\n",
      "        void main() {\n",
      "        vUV = (position.xy * 10.0);\n",
      "        gl_Position = vec4(position, 1.0);\n",
      "        }\n",
      "    }\n",
      "    fragment {\n",
      "        input vec4 fragColor;\n",
      "        input vec2 vUV;\n",
      "\n",
      "\n",
      "        void main() {\n",
      "        noise = perlinNoise(vUV);\n",
      "        height = (noise * 10.0);\n",
      "        color = vec3((height / 10.0), (1.0 - (height / 10.0)), 0.0);\n",
      "        fragColor = vec4(color, 1.0);\n",
      "        }\n",
      "    }\n",
      "}\n",
      "\n",
      "\n",
      "CrossGL to Metal:\n",
      "\n",
      "struct VSInput {\n",
      "    float3 position : POSITION;\n",
      "};\n",
      "\n",
      "struct VSOutput {\n",
      "   float4 position : SV_POSITION;\n",
      "    float2 vUV : TEXCOORD0;\n",
      "};\n",
      "\n",
      "float perlinNoise(float2 p) {\n",
      "    return fract(sin(dot(p, float2(12.9898, 78.233))) * 43758.5453);\n",
      "}\n",
      "VSOutput VSMain(VSInput input) {\n",
      "    VSOutput output;\n",
      "    output.vUV = input.position.xy * 10.0;\n",
      "    output.position = float4(input.position, 1.0);\n",
      "    return output;\n",
      "}\n",
      "\n",
      "struct PSInput {\n",
      "    float4 fragColor : TEXCOORD0;\n",
      "    float2 vUV : TEXCOORD1;\n",
      "};\n",
      "\n",
      "PSOutput PSMain(PSInput input) {\n",
      "    PSOutput output;\n",
      "    noise = perlinNoise(input.vUV);\n",
      "    height = noise * 10.0;\n",
      "    color = float3(height / 10.0, 1.0 - height / 10.0, 0.0);\n",
      "    input.fragColor = float4(color, 1.0);\n",
      "    return output;\n",
      "}\n",
      "\n",
      "\n"
     ]
    }
   ],
   "source": [
    "# CrossTL bidirectional translation\n",
    "crossgl_code = crosstl.translate('shader.glsl', 'cgl')\n",
    "print(\"GLSL to CrossGL:\")\n",
    "print(crossgl_code)\n",
    "\n",
    "hlsl_code = crosstl.translate('shader.cgl', 'directx')\n",
    "print(\"\\nCrossGL to Metal:\")\n",
    "print(hlsl_code)"
   ]
  },
  {
   "cell_type": "markdown",
   "metadata": {},
   "source": [
    "**Round 3 Verdict**: It's a tie! Both tools offer unique features that cater to different needs in the shader translation ecosystem."
   ]
  },
  {
   "cell_type": "markdown",
   "metadata": {},
   "source": [
    "## Final Verdict: Choosing Your Champion\n",
    "\n",
    "After three intense rounds, we can see that both SPIRV-Cross and CrossTL have their strengths:\n",
    "\n",
    "- **SPIRV-Cross** is the battle-tested veteran, offering a standardized intermediate representation and a wide range of features. It's ideal for projects deeply integrated with the Vulkan ecosystem or requiring fine-grained control over the translation process.\n",
    "\n",
    "- **CrossTL** is the agile newcomer, providing a user-friendly experience with its simple setup and one-line translations. It's perfect for developers looking for quick, straightforward shader translations across multiple languages.\n",
    "\n",
    "The choice between these two depends on your specific needs:\n",
    "- Need deep integration with SPIR-V and don't mind a more complex setup? Go with SPIRV-Cross.\n",
    "- Want quick and easy translations between high-level shader languages? CrossTL is your friend.\n",
    "\n",
    "In the end, both tools are valuable assets in a graphics programmer's toolkit. The real winner? You, the developer, with these powerful options at your fingertips!"
   ]
  }
 ],
 "metadata": {
  "kernelspec": {
   "display_name": "Python 3",
   "language": "python",
   "name": "python3"
  },
  "language_info": {
   "codemirror_mode": {
    "name": "ipython",
    "version": 3
   },
   "file_extension": ".py",
   "mimetype": "text/x-python",
   "name": "python",
   "nbconvert_exporter": "python",
   "pygments_lexer": "ipython3",
   "version": "3.10.14"
  }
 },
 "nbformat": 4,
 "nbformat_minor": 4
}
